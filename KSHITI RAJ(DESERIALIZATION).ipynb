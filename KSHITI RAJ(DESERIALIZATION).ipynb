{
 "cells": [
  {
   "cell_type": "code",
   "execution_count": 1,
   "id": "843fa37b",
   "metadata": {},
   "outputs": [],
   "source": [
    "import numpy as np\n",
    "from pickle import load"
   ]
  },
  {
   "cell_type": "markdown",
   "id": "a78f7036",
   "metadata": {},
   "source": [
    "## Loading the previously dumped models:"
   ]
  },
  {
   "cell_type": "code",
   "execution_count": 2,
   "id": "42eae7a8",
   "metadata": {},
   "outputs": [],
   "source": [
    "scaler = load(open('models/standard_scaler.pkl', 'rb'))\n",
    "knn_classifier = load(open('models/knn_model.pkl', 'rb'))\n",
    "lr_classifier = load(open('models/lr_model.pkl', 'rb'))\n",
    "nb_classifier = load(open('models/nb_model.pkl', 'rb'))\n",
    "dt_classifier = load(open('models/dt_model.pkl', 'rb'))"
   ]
  },
  {
   "cell_type": "markdown",
   "id": "c09c2afe",
   "metadata": {},
   "source": [
    "## Giving the query :"
   ]
  },
  {
   "cell_type": "code",
   "execution_count": 3,
   "id": "93c34613",
   "metadata": {},
   "outputs": [
    {
     "name": "stdout",
     "output_type": "stream",
     "text": [
      "Enter the details\n",
      "Enter the radius_mean :16\n",
      "Enter the texture_mean :22\n",
      "Enter the smoothness_mean :0.07\n",
      "Enter the compactness_mean :0.062\n",
      "Enter the concavity_mean :0.030\n"
     ]
    },
    {
     "name": "stderr",
     "output_type": "stream",
     "text": [
      "C:\\Users\\kshit\\AppData\\Roaming\\Python\\Python311\\site-packages\\sklearn\\base.py:439: UserWarning: X does not have valid feature names, but StandardScaler was fitted with feature names\n",
      "  warnings.warn(\n",
      "C:\\Users\\kshit\\AppData\\Roaming\\Python\\Python311\\site-packages\\sklearn\\base.py:439: UserWarning: X does not have valid feature names, but KNeighborsClassifier was fitted with feature names\n",
      "  warnings.warn(\n"
     ]
    },
    {
     "data": {
      "text/plain": [
       "array(['B'], dtype=object)"
      ]
     },
     "execution_count": 3,
     "metadata": {},
     "output_type": "execute_result"
    }
   ],
   "source": [
    "print(\"Enter the details\")\n",
    "rm = float(input('Enter the radius_mean :'))\n",
    "tm = float(input('Enter the texture_mean :'))\n",
    "sm = float(input('Enter the smoothness_mean :'))\n",
    "com_m = float(input('Enter the compactness_mean :'))\n",
    "con_m = float(input('Enter the concavity_mean :'))\n",
    "\n",
    "query_point = np.array([rm,tm,sm,com_m,con_m]).reshape(1,-1)\n",
    "query_point_transformed = scaler.transform(query_point)\n",
    "\n",
    "## knn_classifier PREDICTION:\n",
    "knn_classifier.predict(query_point_transformed)"
   ]
  },
  {
   "cell_type": "markdown",
   "id": "4ac7d233",
   "metadata": {},
   "source": [
    "## lr_classifier PREDICTION:"
   ]
  },
  {
   "cell_type": "code",
   "execution_count": 4,
   "id": "4d6546fb",
   "metadata": {},
   "outputs": [
    {
     "name": "stderr",
     "output_type": "stream",
     "text": [
      "C:\\Users\\kshit\\AppData\\Roaming\\Python\\Python311\\site-packages\\sklearn\\base.py:439: UserWarning: X does not have valid feature names, but LogisticRegression was fitted with feature names\n",
      "  warnings.warn(\n"
     ]
    },
    {
     "data": {
      "text/plain": [
       "array(['B'], dtype=object)"
      ]
     },
     "execution_count": 4,
     "metadata": {},
     "output_type": "execute_result"
    }
   ],
   "source": [
    "## lr_classifier PREDICTION:\n",
    "lr_classifier.predict(query_point_transformed)"
   ]
  },
  {
   "cell_type": "markdown",
   "id": "1ce7e4ba",
   "metadata": {},
   "source": [
    "## nb_classifier PREDICTION:"
   ]
  },
  {
   "cell_type": "code",
   "execution_count": 5,
   "id": "67731c53",
   "metadata": {},
   "outputs": [
    {
     "name": "stderr",
     "output_type": "stream",
     "text": [
      "C:\\Users\\kshit\\AppData\\Roaming\\Python\\Python311\\site-packages\\sklearn\\base.py:439: UserWarning: X does not have valid feature names, but GaussianNB was fitted with feature names\n",
      "  warnings.warn(\n"
     ]
    },
    {
     "data": {
      "text/plain": [
       "array(['B'], dtype='<U1')"
      ]
     },
     "execution_count": 5,
     "metadata": {},
     "output_type": "execute_result"
    }
   ],
   "source": [
    "## nb_classifier PREDICTION:\n",
    "nb_classifier.predict(query_point_transformed)"
   ]
  },
  {
   "cell_type": "markdown",
   "id": "922db656",
   "metadata": {},
   "source": [
    "## dt_classifier PREDICTION:"
   ]
  },
  {
   "cell_type": "code",
   "execution_count": 6,
   "id": "edb2fe27",
   "metadata": {},
   "outputs": [
    {
     "name": "stderr",
     "output_type": "stream",
     "text": [
      "C:\\Users\\kshit\\AppData\\Roaming\\Python\\Python311\\site-packages\\sklearn\\base.py:439: UserWarning: X does not have valid feature names, but DecisionTreeClassifier was fitted with feature names\n",
      "  warnings.warn(\n"
     ]
    },
    {
     "data": {
      "text/plain": [
       "array(['B'], dtype=object)"
      ]
     },
     "execution_count": 6,
     "metadata": {},
     "output_type": "execute_result"
    }
   ],
   "source": [
    "## dt_classifier PREDICTION:\n",
    "dt_classifier.predict(query_point_transformed)"
   ]
  },
  {
   "cell_type": "code",
   "execution_count": null,
   "id": "e936eada",
   "metadata": {},
   "outputs": [],
   "source": []
  }
 ],
 "metadata": {
  "kernelspec": {
   "display_name": "Python 3 (ipykernel)",
   "language": "python",
   "name": "python3"
  },
  "language_info": {
   "codemirror_mode": {
    "name": "ipython",
    "version": 3
   },
   "file_extension": ".py",
   "mimetype": "text/x-python",
   "name": "python",
   "nbconvert_exporter": "python",
   "pygments_lexer": "ipython3",
   "version": "3.11.2"
  }
 },
 "nbformat": 4,
 "nbformat_minor": 5
}
